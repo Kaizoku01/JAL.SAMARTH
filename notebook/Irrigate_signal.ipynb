{
 "cells": [
  {
   "cell_type": "code",
   "execution_count": 2,
   "id": "a2ec8142",
   "metadata": {},
   "outputs": [
    {
     "name": "stdout",
     "output_type": "stream",
     "text": [
      "Day 1: Precipitation expected. Do not irrigate.\n",
      "Day 2: No precipitation expected. Irrigate 4.0 mm to fulfill crop moisture requirement.\n",
      "Day 3: Precipitation expected. Do not irrigate.\n",
      "Day 4: Precipitation expected. Do not irrigate.\n",
      "Day 5: Precipitation expected. Do not irrigate.\n"
     ]
    }
   ],
   "source": [
    "import pandas as pd\n",
    "\n",
    "# Example data (replace with your own data)\n",
    "data = {\n",
    "    'Max_Temp': [30, 28, 32, 25, 27],\n",
    "    'Min_Temp': [20, 18, 22, 17, 19],\n",
    "    'Prec_Percentage': [10, 0, 40, 5, 15],\n",
    "    'Crop_Moisture_Requirement_mm': [5, 4, 6, 4.5, 5.5],  # Crop moisture requirement (mm)\n",
    "}\n",
    "\n",
    "# Create a DataFrame from the example data\n",
    "df = pd.DataFrame(data)\n",
    "\n",
    "# Calculate the required irrigation amount for each day (in mm)\n",
    "df['Required_Irrigation_mm'] = df['Crop_Moisture_Requirement_mm']\n",
    "\n",
    "# Display the irrigation decisions\n",
    "for index, row in df.iterrows():\n",
    "    if row['Prec_Percentage'] > 0:\n",
    "        print(f\"Day {index + 1}: Precipitation expected. Do not irrigate.\")\n",
    "    else:\n",
    "        print(f\"Day {index + 1}: No precipitation expected. Irrigate {row['Required_Irrigation_mm']} mm to fulfill crop moisture requirement.\")\n"
   ]
  },
  {
   "cell_type": "code",
   "execution_count": 4,
   "id": "730c6fd1",
   "metadata": {},
   "outputs": [
    {
     "name": "stdout",
     "output_type": "stream",
     "text": [
      "Day 1: Irrigation Decision (1)\n",
      "Day 2: Irrigation Decision (1)\n",
      "Day 3: Irrigation Decision (1)\n",
      "Day 4: Irrigation Decision (1)\n",
      "Day 5: Irrigation Decision (1)\n",
      "Irrigation Decisions (0 or 1): [1, 1, 1, 1, 1]\n"
     ]
    }
   ],
   "source": [
    "import pandas as pd\n",
    "\n",
    "# Example data (replace with your own data)\n",
    "data = {\n",
    "    'Max_Temp': [30, 28, 32, 25, 27],\n",
    "    'Min_Temp': [20, 18, 22, 17, 19],\n",
    "    'Prec_Percentage': [10, 0, 40, 5, 15],\n",
    "    'Crop_Moisture_Requirement_mm': [5, 4, 6, 4.5, 5.5],  # Crop moisture requirement (mm)\n",
    "}\n",
    "\n",
    "# Create a DataFrame from the example data\n",
    "df = pd.DataFrame(data)\n",
    "\n",
    "# Calculate the required irrigation amount for each day (in mm)\n",
    "df['Required_Irrigation_mm'] = df['Crop_Moisture_Requirement_mm']\n",
    "\n",
    "# Initialize a list to store irrigation decisions as 0 (not irrigate) or 1 (irrigate)\n",
    "irrigation_decisions = []\n",
    "\n",
    "# Generate irrigation decisions\n",
    "for index, row in df.iterrows():\n",
    "    if row['Prec_Percentage'] > 40:\n",
    "        irrigation_decision = 0  # Do not irrigate\n",
    "    else:\n",
    "        irrigation_decision = 1  # Irrigate to fulfill crop moisture requirement\n",
    "    \n",
    "    irrigation_decisions.append(irrigation_decision)\n",
    "\n",
    "# Display the irrigation decisions and return them as a list\n",
    "for index, irrigation_decision in enumerate(irrigation_decisions):\n",
    "    print(f\"Day {index + 1}: Irrigation Decision ({irrigation_decision})\")\n",
    "\n",
    "# Return irrigation decisions as a list (0 or 1) for further use in an IoT device\n",
    "print(\"Irrigation Decisions (0 or 1):\", irrigation_decisions)\n"
   ]
  },
  {
   "cell_type": "code",
   "execution_count": null,
   "id": "f14e2afb",
   "metadata": {},
   "outputs": [],
   "source": []
  }
 ],
 "metadata": {
  "kernelspec": {
   "display_name": "Python 3 (ipykernel)",
   "language": "python",
   "name": "python3"
  },
  "language_info": {
   "codemirror_mode": {
    "name": "ipython",
    "version": 3
   },
   "file_extension": ".py",
   "mimetype": "text/x-python",
   "name": "python",
   "nbconvert_exporter": "python",
   "pygments_lexer": "ipython3",
   "version": "3.11.0"
  }
 },
 "nbformat": 4,
 "nbformat_minor": 5
}
